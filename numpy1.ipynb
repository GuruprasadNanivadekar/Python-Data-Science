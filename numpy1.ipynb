{
 "cells": [
  {
   "cell_type": "code",
   "execution_count": 1,
   "id": "d063b8f4-0521-4f9e-a67a-45da170ee0c7",
   "metadata": {},
   "outputs": [
    {
     "name": "stdout",
     "output_type": "stream",
     "text": [
      "hello world\n"
     ]
    }
   ],
   "source": [
    "print(\"hello world\")"
   ]
  },
  {
   "cell_type": "code",
   "execution_count": 2,
   "id": "ae63c953-b23e-41b0-af63-c01347182fec",
   "metadata": {},
   "outputs": [],
   "source": [
    "#create an array"
   ]
  },
  {
   "cell_type": "code",
   "execution_count": 3,
   "id": "f69726e8-7dbf-4896-8285-1fc002e706cb",
   "metadata": {},
   "outputs": [
    {
     "ename": "ModuleNotFoundError",
     "evalue": "No module named 'numpy'",
     "output_type": "error",
     "traceback": [
      "\u001b[1;31m---------------------------------------------------------------------------\u001b[0m",
      "\u001b[1;31mModuleNotFoundError\u001b[0m                       Traceback (most recent call last)",
      "Cell \u001b[1;32mIn[3], line 1\u001b[0m\n\u001b[1;32m----> 1\u001b[0m \u001b[38;5;28;01mimport\u001b[39;00m \u001b[38;5;21;01mnumpy\u001b[39;00m \u001b[38;5;28;01mas\u001b[39;00m \u001b[38;5;21;01mnp\u001b[39;00m\n",
      "\u001b[1;31mModuleNotFoundError\u001b[0m: No module named 'numpy'"
     ]
    }
   ],
   "source": [
    "import numpy as np"
   ]
  },
  {
   "cell_type": "code",
   "execution_count": 4,
   "id": "d1e492f6-90f0-4589-9a8f-51e700b1827d",
   "metadata": {},
   "outputs": [
    {
     "ename": "NameError",
     "evalue": "name 'np' is not defined",
     "output_type": "error",
     "traceback": [
      "\u001b[1;31m---------------------------------------------------------------------------\u001b[0m",
      "\u001b[1;31mNameError\u001b[0m                                 Traceback (most recent call last)",
      "Cell \u001b[1;32mIn[4], line 1\u001b[0m\n\u001b[1;32m----> 1\u001b[0m \u001b[43mnp\u001b[49m\n",
      "\u001b[1;31mNameError\u001b[0m: name 'np' is not defined"
     ]
    }
   ],
   "source": [
    "np"
   ]
  },
  {
   "cell_type": "code",
   "execution_count": 5,
   "id": "888b988f-f7a5-4132-a335-2810a2fc2e47",
   "metadata": {},
   "outputs": [
    {
     "ename": "NameError",
     "evalue": "name 'numpy' is not defined",
     "output_type": "error",
     "traceback": [
      "\u001b[1;31m---------------------------------------------------------------------------\u001b[0m",
      "\u001b[1;31mNameError\u001b[0m                                 Traceback (most recent call last)",
      "Cell \u001b[1;32mIn[5], line 1\u001b[0m\n\u001b[1;32m----> 1\u001b[0m \u001b[43mnumpy\u001b[49m\u001b[38;5;241m.\u001b[39m__version__\n",
      "\u001b[1;31mNameError\u001b[0m: name 'numpy' is not defined"
     ]
    }
   ],
   "source": [
    "numpy.__version__"
   ]
  },
  {
   "cell_type": "code",
   "execution_count": null,
   "id": "38da7ff8-11f7-4aff-97d7-4069c66afb23",
   "metadata": {},
   "outputs": [],
   "source": []
  },
  {
   "cell_type": "code",
   "execution_count": 6,
   "id": "f19367a9-bc4a-4cc9-88f0-9a23555a2607",
   "metadata": {},
   "outputs": [
    {
     "name": "stdout",
     "output_type": "stream",
     "text": [
      "Defaulting to user installation because normal site-packages is not writeable\n",
      "Collecting numpy\n",
      "  Downloading numpy-1.26.2-cp311-cp311-win_amd64.whl.metadata (61 kB)\n",
      "     ---------------------------------------- 0.0/61.2 kB ? eta -:--:--\n",
      "     ---------------------------------------- 61.2/61.2 kB 3.4 MB/s eta 0:00:00\n",
      "Downloading numpy-1.26.2-cp311-cp311-win_amd64.whl (15.8 MB)\n",
      "   ---------------------------------------- 0.0/15.8 MB ? eta -:--:--\n",
      "    --------------------------------------- 0.4/15.8 MB 11.5 MB/s eta 0:00:02\n",
      "   - -------------------------------------- 0.8/15.8 MB 12.0 MB/s eta 0:00:02\n",
      "   --- ------------------------------------ 1.4/15.8 MB 11.3 MB/s eta 0:00:02\n",
      "   ---- ----------------------------------- 1.7/15.8 MB 10.6 MB/s eta 0:00:02\n",
      "   ------ --------------------------------- 2.5/15.8 MB 11.2 MB/s eta 0:00:02\n",
      "   ------- -------------------------------- 2.9/15.8 MB 10.8 MB/s eta 0:00:02\n",
      "   -------- ------------------------------- 3.2/15.8 MB 10.3 MB/s eta 0:00:02\n",
      "   --------- ------------------------------ 3.7/15.8 MB 10.4 MB/s eta 0:00:02\n",
      "   ---------- ----------------------------- 4.3/15.8 MB 10.1 MB/s eta 0:00:02\n",
      "   ------------ --------------------------- 4.8/15.8 MB 10.5 MB/s eta 0:00:02\n",
      "   ------------- -------------------------- 5.3/15.8 MB 10.6 MB/s eta 0:00:01\n",
      "   -------------- ------------------------- 5.8/15.8 MB 10.7 MB/s eta 0:00:01\n",
      "   ---------------- ----------------------- 6.4/15.8 MB 10.8 MB/s eta 0:00:01\n",
      "   ----------------- ---------------------- 7.0/15.8 MB 10.8 MB/s eta 0:00:01\n",
      "   ------------------- -------------------- 7.5/15.8 MB 10.9 MB/s eta 0:00:01\n",
      "   -------------------- ------------------- 8.0/15.8 MB 10.9 MB/s eta 0:00:01\n",
      "   --------------------- ------------------ 8.6/15.8 MB 10.9 MB/s eta 0:00:01\n",
      "   ---------------------- ----------------- 8.8/15.8 MB 10.7 MB/s eta 0:00:01\n",
      "   ----------------------- ---------------- 9.4/15.8 MB 10.8 MB/s eta 0:00:01\n",
      "   ------------------------ --------------- 9.9/15.8 MB 10.7 MB/s eta 0:00:01\n",
      "   -------------------------- ------------- 10.5/15.8 MB 10.7 MB/s eta 0:00:01\n",
      "   --------------------------- ------------ 11.0/15.8 MB 11.3 MB/s eta 0:00:01\n",
      "   ----------------------------- ---------- 11.5/15.8 MB 10.9 MB/s eta 0:00:01\n",
      "   ------------------------------ --------- 12.0/15.8 MB 11.1 MB/s eta 0:00:01\n",
      "   ------------------------------- -------- 12.5/15.8 MB 10.7 MB/s eta 0:00:01\n",
      "   --------------------------------- ------ 13.1/15.8 MB 10.9 MB/s eta 0:00:01\n",
      "   ---------------------------------- ----- 13.4/15.8 MB 11.1 MB/s eta 0:00:01\n",
      "   ----------------------------------- ---- 14.1/15.8 MB 11.3 MB/s eta 0:00:01\n",
      "   ------------------------------------ --- 14.6/15.8 MB 11.3 MB/s eta 0:00:01\n",
      "   -------------------------------------- - 15.1/15.8 MB 11.3 MB/s eta 0:00:01\n",
      "   ---------------------------------------  15.7/15.8 MB 11.3 MB/s eta 0:00:01\n",
      "   ---------------------------------------  15.8/15.8 MB 11.3 MB/s eta 0:00:01\n",
      "   ---------------------------------------- 15.8/15.8 MB 10.7 MB/s eta 0:00:00\n",
      "Installing collected packages: numpy\n",
      "Successfully installed numpy-1.26.2\n",
      "Note: you may need to restart the kernel to use updated packages.\n"
     ]
    },
    {
     "name": "stderr",
     "output_type": "stream",
     "text": [
      "  WARNING: The script f2py.exe is installed in 'C:\\Users\\naniv\\AppData\\Roaming\\Python\\Python311\\Scripts' which is not on PATH.\n",
      "  Consider adding this directory to PATH or, if you prefer to suppress this warning, use --no-warn-script-location.\n"
     ]
    }
   ],
   "source": [
    "pip install numpy"
   ]
  },
  {
   "cell_type": "code",
   "execution_count": 7,
   "id": "0bcae3fc-b289-46cd-9382-d5128a647c05",
   "metadata": {},
   "outputs": [],
   "source": [
    "import numpy as np"
   ]
  },
  {
   "cell_type": "code",
   "execution_count": 8,
   "id": "80984935-f6b8-4c49-89a8-b13099518075",
   "metadata": {},
   "outputs": [
    {
     "data": {
      "text/plain": [
       "<module 'numpy' from 'C:\\\\Users\\\\naniv\\\\AppData\\\\Roaming\\\\Python\\\\Python311\\\\site-packages\\\\numpy\\\\__init__.py'>"
      ]
     },
     "execution_count": 8,
     "metadata": {},
     "output_type": "execute_result"
    }
   ],
   "source": [
    "np"
   ]
  },
  {
   "cell_type": "code",
   "execution_count": 9,
   "id": "61dbd47c-b498-4f7d-aa1f-93ff4f66bbd5",
   "metadata": {},
   "outputs": [],
   "source": [
    "# create an array"
   ]
  },
  {
   "cell_type": "code",
   "execution_count": 10,
   "id": "bed3e01f-b775-4f75-894b-acc663497bad",
   "metadata": {},
   "outputs": [
    {
     "ename": "TypeError",
     "evalue": "'builtin_function_or_method' object is not subscriptable",
     "output_type": "error",
     "traceback": [
      "\u001b[1;31m---------------------------------------------------------------------------\u001b[0m",
      "\u001b[1;31mTypeError\u001b[0m                                 Traceback (most recent call last)",
      "Cell \u001b[1;32mIn[10], line 1\u001b[0m\n\u001b[1;32m----> 1\u001b[0m \u001b[43mnp\u001b[49m\u001b[38;5;241;43m.\u001b[39;49m\u001b[43marray\u001b[49m\u001b[43m[\u001b[49m\u001b[38;5;241;43m10\u001b[39;49m\u001b[43m,\u001b[49m\u001b[38;5;241;43m20\u001b[39;49m\u001b[43m,\u001b[49m\u001b[38;5;241;43m30\u001b[39;49m\u001b[43m,\u001b[49m\u001b[38;5;241;43m55\u001b[39;49m\u001b[43m]\u001b[49m\n",
      "\u001b[1;31mTypeError\u001b[0m: 'builtin_function_or_method' object is not subscriptable"
     ]
    }
   ],
   "source": [
    "np.array[10,20,30,55]"
   ]
  },
  {
   "cell_type": "code",
   "execution_count": 11,
   "id": "c74aceb9-b171-46f5-985f-39308f47b2d4",
   "metadata": {},
   "outputs": [
    {
     "data": {
      "text/plain": [
       "array([10, 20, 66])"
      ]
     },
     "execution_count": 11,
     "metadata": {},
     "output_type": "execute_result"
    }
   ],
   "source": [
    "np.array([10,20,66])"
   ]
  },
  {
   "cell_type": "code",
   "execution_count": 12,
   "id": "c2b386ea-8a56-484b-89a7-7ca9ae86b89f",
   "metadata": {},
   "outputs": [
    {
     "ename": "AttributeError",
     "evalue": "module 'numpy' has no attribute 'range'",
     "output_type": "error",
     "traceback": [
      "\u001b[1;31m---------------------------------------------------------------------------\u001b[0m",
      "\u001b[1;31mAttributeError\u001b[0m                            Traceback (most recent call last)",
      "Cell \u001b[1;32mIn[12], line 1\u001b[0m\n\u001b[1;32m----> 1\u001b[0m \u001b[43mnp\u001b[49m\u001b[38;5;241;43m.\u001b[39;49m\u001b[43mrange\u001b[49m(\u001b[38;5;241m5\u001b[39m)\n",
      "File \u001b[1;32m~\\AppData\\Roaming\\Python\\Python311\\site-packages\\numpy\\__init__.py:347\u001b[0m, in \u001b[0;36m__getattr__\u001b[1;34m(attr)\u001b[0m\n\u001b[0;32m    344\u001b[0m     \u001b[38;5;124m\"\u001b[39m\u001b[38;5;124mRemoved in NumPy 1.25.0\u001b[39m\u001b[38;5;124m\"\u001b[39m\n\u001b[0;32m    345\u001b[0m     \u001b[38;5;28;01mraise\u001b[39;00m \u001b[38;5;167;01mRuntimeError\u001b[39;00m(\u001b[38;5;124m\"\u001b[39m\u001b[38;5;124mTester was removed in NumPy 1.25.\u001b[39m\u001b[38;5;124m\"\u001b[39m)\n\u001b[1;32m--> 347\u001b[0m \u001b[38;5;28;01mraise\u001b[39;00m \u001b[38;5;167;01mAttributeError\u001b[39;00m(\u001b[38;5;124m\"\u001b[39m\u001b[38;5;124mmodule \u001b[39m\u001b[38;5;132;01m{!r}\u001b[39;00m\u001b[38;5;124m has no attribute \u001b[39m\u001b[38;5;124m\"\u001b[39m\n\u001b[0;32m    348\u001b[0m                      \u001b[38;5;124m\"\u001b[39m\u001b[38;5;132;01m{!r}\u001b[39;00m\u001b[38;5;124m\"\u001b[39m\u001b[38;5;241m.\u001b[39mformat(\u001b[38;5;18m__name__\u001b[39m, attr))\n",
      "\u001b[1;31mAttributeError\u001b[0m: module 'numpy' has no attribute 'range'"
     ]
    }
   ],
   "source": [
    "np.range(5)"
   ]
  },
  {
   "cell_type": "code",
   "execution_count": 13,
   "id": "b84007d0-3125-4bfc-940d-5d066d719715",
   "metadata": {},
   "outputs": [
    {
     "data": {
      "text/plain": [
       "array([0, 1, 2, 3, 4, 5])"
      ]
     },
     "execution_count": 13,
     "metadata": {},
     "output_type": "execute_result"
    }
   ],
   "source": [
    "np.arange(6)"
   ]
  },
  {
   "cell_type": "code",
   "execution_count": 1,
   "id": "783e049a-0ee6-4a28-9990-512acdb64821",
   "metadata": {},
   "outputs": [
    {
     "ename": "NameError",
     "evalue": "name 'np' is not defined",
     "output_type": "error",
     "traceback": [
      "\u001b[1;31m---------------------------------------------------------------------------\u001b[0m",
      "\u001b[1;31mNameError\u001b[0m                                 Traceback (most recent call last)",
      "Cell \u001b[1;32mIn[1], line 1\u001b[0m\n\u001b[1;32m----> 1\u001b[0m \u001b[43mnp\u001b[49m\u001b[38;5;241m.\u001b[39marray([[]])\n",
      "\u001b[1;31mNameError\u001b[0m: name 'np' is not defined"
     ]
    }
   ],
   "source": [
    "np.array([[]])"
   ]
  },
  {
   "cell_type": "code",
   "execution_count": 2,
   "id": "392cf77e-c34b-4dee-b3b6-5c85d40a7282",
   "metadata": {},
   "outputs": [
    {
     "ename": "NameError",
     "evalue": "name 'np' is not defined",
     "output_type": "error",
     "traceback": [
      "\u001b[1;31m---------------------------------------------------------------------------\u001b[0m",
      "\u001b[1;31mNameError\u001b[0m                                 Traceback (most recent call last)",
      "Cell \u001b[1;32mIn[2], line 1\u001b[0m\n\u001b[1;32m----> 1\u001b[0m b\u001b[38;5;241m=\u001b[39m\u001b[43mnp\u001b[49m\u001b[38;5;241m.\u001b[39marray([[]])\n",
      "\u001b[1;31mNameError\u001b[0m: name 'np' is not defined"
     ]
    }
   ],
   "source": [
    "b=np.array([[]])"
   ]
  },
  {
   "cell_type": "code",
   "execution_count": 3,
   "id": "8223590d-0250-42b9-b9bd-c55d0185b6cd",
   "metadata": {},
   "outputs": [
    {
     "ename": "NameError",
     "evalue": "name 'np' is not defined",
     "output_type": "error",
     "traceback": [
      "\u001b[1;31m---------------------------------------------------------------------------\u001b[0m",
      "\u001b[1;31mNameError\u001b[0m                                 Traceback (most recent call last)",
      "Cell \u001b[1;32mIn[3], line 1\u001b[0m\n\u001b[1;32m----> 1\u001b[0m \u001b[43mnp\u001b[49m\n",
      "\u001b[1;31mNameError\u001b[0m: name 'np' is not defined"
     ]
    }
   ],
   "source": [
    "np"
   ]
  },
  {
   "cell_type": "code",
   "execution_count": 4,
   "id": "706ce32a-a33a-4a87-b732-96ae6362c7c4",
   "metadata": {},
   "outputs": [],
   "source": [
    "import numpy as np"
   ]
  },
  {
   "cell_type": "code",
   "execution_count": 5,
   "id": "44be5041-6681-4cf6-9117-0fde367383a5",
   "metadata": {},
   "outputs": [],
   "source": [
    "c=np.array([[]])"
   ]
  },
  {
   "cell_type": "code",
   "execution_count": 6,
   "id": "10b0868d-8a32-42f1-8dc4-4e97fbd3553f",
   "metadata": {},
   "outputs": [
    {
     "data": {
      "text/plain": [
       "array([], shape=(1, 0), dtype=float64)"
      ]
     },
     "execution_count": 6,
     "metadata": {},
     "output_type": "execute_result"
    }
   ],
   "source": [
    "c"
   ]
  },
  {
   "cell_type": "code",
   "execution_count": 7,
   "id": "7a47228a-83d3-47d5-87af-cd322fb0d36b",
   "metadata": {},
   "outputs": [
    {
     "name": "stderr",
     "output_type": "stream",
     "text": [
      "C:\\Users\\naniv\\AppData\\Roaming\\Python\\Python311\\site-packages\\numpy\\core\\fromnumeric.py:3504: RuntimeWarning: Mean of empty slice.\n",
      "  return _methods._mean(a, axis=axis, dtype=dtype,\n",
      "C:\\Users\\naniv\\AppData\\Roaming\\Python\\Python311\\site-packages\\numpy\\core\\_methods.py:129: RuntimeWarning: invalid value encountered in scalar divide\n",
      "  ret = ret.dtype.type(ret / rcount)\n"
     ]
    },
    {
     "data": {
      "text/plain": [
       "nan"
      ]
     },
     "execution_count": 7,
     "metadata": {},
     "output_type": "execute_result"
    }
   ],
   "source": [
    "np.mean(c)"
   ]
  },
  {
   "cell_type": "code",
   "execution_count": 8,
   "id": "2f49addf-365a-4846-a1f4-48b46e97b942",
   "metadata": {},
   "outputs": [
    {
     "data": {
      "text/plain": [
       "array([1., 1.])"
      ]
     },
     "execution_count": 8,
     "metadata": {},
     "output_type": "execute_result"
    }
   ],
   "source": [
    "np.ones((2))"
   ]
  },
  {
   "cell_type": "code",
   "execution_count": 9,
   "id": "2854d1d9-5b57-4483-b553-0d1736924251",
   "metadata": {},
   "outputs": [
    {
     "data": {
      "text/plain": [
       "array([[[1., 1., 1.],\n",
       "        [1., 1., 1.]],\n",
       "\n",
       "       [[1., 1., 1.],\n",
       "        [1., 1., 1.]]])"
      ]
     },
     "execution_count": 9,
     "metadata": {},
     "output_type": "execute_result"
    }
   ],
   "source": [
    "np.ones((2,2,3))  "
   ]
  },
  {
   "cell_type": "code",
   "execution_count": 10,
   "id": "deb2f9d6-4965-4db9-9e9a-987231de9181",
   "metadata": {},
   "outputs": [],
   "source": [
    "a = np.array([[5,10,15],\n",
    "              [20,25,30],\n",
    "              [35,40,45]])"
   ]
  },
  {
   "cell_type": "code",
   "execution_count": 11,
   "id": "96606d62-8055-4887-82fa-7e89e250247b",
   "metadata": {},
   "outputs": [
    {
     "data": {
      "text/plain": [
       "25.0"
      ]
     },
     "execution_count": 11,
     "metadata": {},
     "output_type": "execute_result"
    }
   ],
   "source": [
    "np.mean(a)"
   ]
  },
  {
   "cell_type": "code",
   "execution_count": 12,
   "id": "f7f78a9f-43ba-496a-bcf9-01e193e10dd3",
   "metadata": {},
   "outputs": [
    {
     "data": {
      "text/plain": [
       "<function std at 0x00000224FE7249F0>"
      ]
     },
     "execution_count": 12,
     "metadata": {},
     "output_type": "execute_result"
    }
   ],
   "source": [
    "np.std"
   ]
  },
  {
   "cell_type": "code",
   "execution_count": 13,
   "id": "95ec4da0-18a1-49f0-a849-048156113ab5",
   "metadata": {},
   "outputs": [
    {
     "data": {
      "text/plain": [
       "12.909944487358056"
      ]
     },
     "execution_count": 13,
     "metadata": {},
     "output_type": "execute_result"
    }
   ],
   "source": [
    "np.std(a)"
   ]
  },
  {
   "cell_type": "code",
   "execution_count": 14,
   "id": "b9df1103-8863-41ff-be1d-a77871be9bc7",
   "metadata": {},
   "outputs": [
    {
     "data": {
      "text/plain": [
       "5"
      ]
     },
     "execution_count": 14,
     "metadata": {},
     "output_type": "execute_result"
    }
   ],
   "source": [
    "np.min(a)"
   ]
  },
  {
   "cell_type": "code",
   "execution_count": 15,
   "id": "0691c999-d81a-489e-8565-f1fe49205ebc",
   "metadata": {},
   "outputs": [
    {
     "data": {
      "text/plain": [
       "45"
      ]
     },
     "execution_count": 15,
     "metadata": {},
     "output_type": "execute_result"
    }
   ],
   "source": [
    "np.max(a)"
   ]
  },
  {
   "cell_type": "code",
   "execution_count": 16,
   "id": "2fcc4327-e7de-4a3a-b544-c94ca097c2cc",
   "metadata": {},
   "outputs": [
    {
     "data": {
      "text/plain": [
       "array([ 5, 10, 15])"
      ]
     },
     "execution_count": 16,
     "metadata": {},
     "output_type": "execute_result"
    }
   ],
   "source": [
    "np.min(a,axis=0)"
   ]
  },
  {
   "cell_type": "code",
   "execution_count": 17,
   "id": "8d10079b-99ce-48df-a05e-9a7642f1cded",
   "metadata": {},
   "outputs": [
    {
     "data": {
      "text/plain": [
       "array([35, 40, 45])"
      ]
     },
     "execution_count": 17,
     "metadata": {},
     "output_type": "execute_result"
    }
   ],
   "source": [
    "np.max(a,axis=0)"
   ]
  },
  {
   "cell_type": "code",
   "execution_count": 18,
   "id": "22642bcd-f15b-4299-a169-bcd6ebb275d1",
   "metadata": {},
   "outputs": [
    {
     "data": {
      "text/plain": [
       "array([10., 25., 40.])"
      ]
     },
     "execution_count": 18,
     "metadata": {},
     "output_type": "execute_result"
    }
   ],
   "source": [
    "np.mean(a,axis=1)"
   ]
  },
  {
   "cell_type": "code",
   "execution_count": 19,
   "id": "6459f952-6a30-467f-972b-4cfb22f98d92",
   "metadata": {},
   "outputs": [
    {
     "data": {
      "text/plain": [
       "array([15, 30, 45])"
      ]
     },
     "execution_count": 19,
     "metadata": {},
     "output_type": "execute_result"
    }
   ],
   "source": [
    "np.max(a,axis=1)"
   ]
  },
  {
   "cell_type": "code",
   "execution_count": null,
   "id": "92f0770f-0cc0-42d2-9049-3e5cd5571eb0",
   "metadata": {},
   "outputs": [],
   "source": []
  }
 ],
 "metadata": {
  "kernelspec": {
   "display_name": "Python 3 (ipykernel)",
   "language": "python",
   "name": "python3"
  },
  "language_info": {
   "codemirror_mode": {
    "name": "ipython",
    "version": 3
   },
   "file_extension": ".py",
   "mimetype": "text/x-python",
   "name": "python",
   "nbconvert_exporter": "python",
   "pygments_lexer": "ipython3",
   "version": "3.11.4"
  }
 },
 "nbformat": 4,
 "nbformat_minor": 5
}
